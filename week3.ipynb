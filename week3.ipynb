{
 "cells": [
  {
   "cell_type": "code",
   "execution_count": 1,
   "metadata": {},
   "outputs": [
    {
     "name": "stdout",
     "output_type": "stream",
     "text": [
      "['A', 'C', 'B', 'D']\n",
      "[]\n",
      "['Z']\n"
     ]
    }
   ],
   "source": [
    "def manage_stage_changes(changes):\n",
    "    stack = []\n",
    "    cancelled = []\n",
    "    for change in changes:\n",
    "        if change.startswith(\"Schedule\"):\n",
    "            stack.append(change[-1])\n",
    "        elif change == \"Cancel\" and stack:\n",
    "            cancelled.append(stack.pop())\n",
    "        elif change == \"Reschedule\" and cancelled:\n",
    "            stack.append(cancelled.pop())\n",
    "\n",
    "    return stack\n",
    "\n",
    "print(manage_stage_changes([\"Schedule A\", \"Schedule B\", \"Cancel\", \"Schedule C\", \"Reschedule\", \"Schedule D\"]))  \n",
    "print(manage_stage_changes([\"Schedule A\", \"Cancel\", \"Schedule B\", \"Cancel\", \"Reschedule\", \"Cancel\"])) \n",
    "print(manage_stage_changes([\"Schedule X\", \"Schedule Y\", \"Cancel\", \"Cancel\", \"Schedule Z\"])) "
   ]
  },
  {
   "cell_type": "code",
   "execution_count": 4,
   "metadata": {},
   "outputs": [
    {
     "name": "stdout",
     "output_type": "stream",
     "text": [
      "['Music', 'Dance', 'Drama']\n",
      "['Concert', 'Stand-up Comedy', 'Poetry', 'Magic Show']\n",
      "['Keynote Speech', 'Panel Discussion', 'Film Screening', 'Workshop', 'Art Exhibition']\n"
     ]
    }
   ],
   "source": [
    "from collections import deque\n",
    "def process_performance_requests(requests):\n",
    "    sorted_requests = sorted(requests, reverse=True)\n",
    "    res = []\n",
    "    for request in sorted_requests:\n",
    "        res.append(request[1])\n",
    "\n",
    "    return res\n",
    "\n",
    "print(process_performance_requests([(3, 'Dance'), (5, 'Music'), (1, 'Drama')]))\n",
    "print(process_performance_requests([(2, 'Poetry'), (1, 'Magic Show'), (4, 'Concert'), (3, 'Stand-up Comedy')]))\n",
    "print(process_performance_requests([(1, 'Art Exhibition'), (3, 'Film Screening'), (2, 'Workshop'), (5, 'Keynote Speech'), (4, 'Panel Discussion')]))"
   ]
  },
  {
   "cell_type": "code",
   "execution_count": 5,
   "metadata": {},
   "outputs": [
    {
     "name": "stdout",
     "output_type": "stream",
     "text": [
      "26\n",
      "19\n",
      "25\n"
     ]
    }
   ],
   "source": [
    "def collect_festival_points(points):\n",
    "    stack = []\n",
    "\n",
    "    for point in points:\n",
    "        stack.append(point)\n",
    "\n",
    "    total = 0\n",
    "    while stack:\n",
    "        total += stack.pop()\n",
    "\n",
    "    return total\n",
    "\n",
    "print(collect_festival_points([5, 8, 3, 10])) \n",
    "print(collect_festival_points([2, 7, 4, 6])) \n",
    "print(collect_festival_points([1, 5, 9, 2, 8])) "
   ]
  },
  {
   "cell_type": "code",
   "execution_count": 8,
   "metadata": {},
   "outputs": [
    {
     "name": "stdout",
     "output_type": "stream",
     "text": [
      "[1, 3, 4]\n",
      "[5, 7]\n",
      "[3]\n"
     ]
    }
   ],
   "source": [
    "def booth_navigation(clues):\n",
    "    stack = []\n",
    "\n",
    "    for clue in clues:\n",
    "        if clue == \"back\" and stack:\n",
    "            stack.pop()\n",
    "        elif clue == \"back\" and not stack:\n",
    "            continue\n",
    "        else:\n",
    "            stack.append(clue)\n",
    "\n",
    "    return stack       \n",
    "\n",
    "clues = [1, 2, \"back\", 3, 4]\n",
    "print(booth_navigation(clues)) \n",
    "\n",
    "clues = [5, 3, 2, \"back\", \"back\", 7]\n",
    "print(booth_navigation(clues)) \n",
    "\n",
    "clues = [1, \"back\", 2, \"back\", \"back\", 3]\n",
    "print(booth_navigation(clues)) "
   ]
  },
  {
   "cell_type": "code",
   "execution_count": 17,
   "metadata": {},
   "outputs": [
    {
     "name": "stdout",
     "output_type": "stream",
     "text": [
      "3\n",
      "3\n",
      "apbqcr\n",
      "2\n",
      "2\n",
      "apbqrs\n",
      "2\n",
      "2\n",
      "apbqcd\n"
     ]
    }
   ],
   "source": [
    "def merge_schedules(schedule1, schedule2):\n",
    "    ptr1 = 0\n",
    "    ptr2 = 0\n",
    "\n",
    "    res = \"\"\n",
    "    # min_len = min(len(schedule1), len(schedule2))\n",
    "\n",
    "    while ptr1 <  len(schedule1) and ptr2 < len(schedule2):\n",
    "        res += schedule1[ptr1]\n",
    "        res += schedule2[ptr2]\n",
    "        ptr1 += 1\n",
    "        ptr2 += 1\n",
    "    # print(ptr1)\n",
    "    # print(ptr2)\n",
    "    if ptr1 < len(schedule1):\n",
    "        res += schedule1[ptr1:]\n",
    "        # res.join(schedule1[ptr1:])\n",
    "    else:\n",
    "        res += schedule2[ptr2:]\n",
    "        # res.join(schedule2[ptr2:])\n",
    "        ''''\n",
    "    if len(schedule1) < len(schedule2):\n",
    "        res.join(schedule2[ptr2:])\n",
    "    else:\n",
    "        res.join(schedule1[ptr1:])\n",
    "'''\n",
    "    return res\n",
    "\n",
    "    # res.join()\n",
    "print(merge_schedules(\"abc\", \"pqr\")) \n",
    "print(merge_schedules(\"ab\", \"pqrs\")) \n",
    "print(merge_schedules(\"abcd\", \"pq\"))"
   ]
  },
  {
   "cell_type": "code",
   "execution_count": null,
   "metadata": {},
   "outputs": [],
   "source": [
    "# Did not get to finish this problem!\n",
    "def next_greater_event(schedule1, schedule2):\n",
    "    for i in range(schedule1):\n",
    "        x\n",
    "print(next_greater_event([4, 1, 2], [1, 3, 4, 2])) \n",
    "print(next_greater_event([2, 4], [1, 2, 3, 4])) "
   ]
  }
 ],
 "metadata": {
  "kernelspec": {
   "display_name": "Python 3",
   "language": "python",
   "name": "python3"
  },
  "language_info": {
   "codemirror_mode": {
    "name": "ipython",
    "version": 3
   },
   "file_extension": ".py",
   "mimetype": "text/x-python",
   "name": "python",
   "nbconvert_exporter": "python",
   "pygments_lexer": "ipython3",
   "version": "3.12.4"
  }
 },
 "nbformat": 4,
 "nbformat_minor": 2
}
