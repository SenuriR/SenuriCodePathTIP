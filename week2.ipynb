{
 "cells": [
  {
   "cell_type": "code",
   "execution_count": 1,
   "metadata": {},
   "outputs": [
    {
     "name": "stdout",
     "output_type": "stream",
     "text": [
      "{'name': 'Amur Leopard', 'habitat': 'Temperate forests', 'population': 84}\n",
      "{'name': 'Javan Rhino', 'habitat': 'Tropical forests', 'population': 72}\n",
      "{'name': 'Vaquita', 'habitat': 'Marine', 'population': 10}\n",
      "None\n"
     ]
    }
   ],
   "source": [
    "def most_endangered(species_list):\n",
    "    if species_list is None:\n",
    "        return -1\n",
    "    \n",
    "    most_endangered = species_list[0]\n",
    "    for i in range(len(species_list)):\n",
    "        print(species_list[i])\n",
    "\n",
    "species_list = [\n",
    "    {\"name\": \"Amur Leopard\",\n",
    "     \"habitat\": \"Temperate forests\",\n",
    "     \"population\": 84\n",
    "    },\n",
    "    {\"name\": \"Javan Rhino\",\n",
    "     \"habitat\": \"Tropical forests\",\n",
    "     \"population\": 72\n",
    "    },\n",
    "    {\"name\": \"Vaquita\",\n",
    "     \"habitat\": \"Marine\",\n",
    "     \"population\": 10\n",
    "    }\n",
    "]\n",
    "\n",
    "print(most_endangered(species_list))"
   ]
  },
  {
   "cell_type": "code",
   "execution_count": 2,
   "metadata": {},
   "outputs": [
    {
     "name": "stdout",
     "output_type": "stream",
     "text": [
      "None\n",
      "None\n"
     ]
    }
   ],
   "source": [
    "def count_endangered_species(endangered_species, observed_species):\n",
    "    pass\n",
    "\n",
    "endangered_species1 = \"aA\"\n",
    "observed_species1 = \"aAAbbbb\"\n",
    "\n",
    "endangered_species2 = \"z\"\n",
    "observed_species2 = \"ZZ\"\n",
    "\n",
    "print(count_endangered_species(endangered_species1, observed_species1)) \n",
    "print(count_endangered_species(endangered_species2, observed_species2))  "
   ]
  },
  {
   "cell_type": "code",
   "execution_count": null,
   "metadata": {},
   "outputs": [],
   "source": [
    "def navigate_research_station(station_layout, observations):\n",
    "  pass\n",
    "\n",
    "station_layout1 = \"pqrstuvwxyzabcdefghijklmno\"\n",
    "observations1 = \"wildlife\"\n",
    "\n",
    "station_layout2 = \"abcdefghijklmnopqrstuvwxyz\"\n",
    "observations2 = \"cba\"\n",
    "\n",
    "print(navigate_research_station(station_layout1, observations1))  \n",
    "print(navigate_research_station(station_layout2, observations2))"
   ]
  },
  {
   "cell_type": "code",
   "execution_count": null,
   "metadata": {},
   "outputs": [],
   "source": [
    "def prioritize_observations(observed_species, priority_species):\n",
    "  pass\n",
    "\n",
    "observed_species1 = [\"🐯\", \"🦁\", \"🦌\", \"🦁\", \"🐯\", \"🐘\", \"🐍\", \"🦑\", \"🐻\", \"🐯\", \"🐼\"]\n",
    "priority_species1 = [\"🐯\", \"🦌\", \"🐘\", \"🦁\"]  \n",
    "\n",
    "observed_species2 = [\"bluejay\", \"sparrow\", \"cardinal\", \"robin\", \"crow\"]\n",
    "priority_species2 = [\"cardinal\", \"sparrow\", \"bluejay\"]\n",
    "\n",
    "print(prioritize_observations(observed_species1, priority_species1))\n",
    "print(prioritize_observations(observed_species2, priority_species2)) "
   ]
  },
  {
   "cell_type": "code",
   "execution_count": null,
   "metadata": {},
   "outputs": [],
   "source": [
    "def distinct_averages(species_populations):\n",
    "  pass\n",
    "\n",
    "species_populations1 = [4,1,4,0,3,5]\n",
    "species_populations2 = [1,100]\n",
    "\n",
    "print(distinct_averages(species_populations1))\n",
    "print(distinct_averages(species_populations2))"
   ]
  },
  {
   "cell_type": "code",
   "execution_count": null,
   "metadata": {},
   "outputs": [],
   "source": [
    "def max_species_copies(raised_species, target_species):\n",
    "  pass\n",
    "\n",
    "raised_species1 = \"abcba\"\n",
    "target_species1 = \"abc\"\n",
    "print(max_species_copies(raised_species1, target_species1))  # Output: 1\n",
    "\n",
    "raised_species2 = \"aaaaabbbbcc\"\n",
    "target_species2 = \"abc\"\n",
    "print(max_species_copies(raised_species2, target_species2)) # Output: 2"
   ]
  },
  {
   "cell_type": "code",
   "execution_count": null,
   "metadata": {},
   "outputs": [],
   "source": [
    "def count_unique_species(ecosystem_data):\n",
    "  pass\n",
    "\n",
    "ecosystem_data1 = \"f123de34g8hi34\"\n",
    "ecosystem_data2 = \"species1234forest234\"\n",
    "ecosystem_data3 = \"x1y01z001\"\n",
    "\n",
    "print(count_unique_species(ecosystem_data1))\n",
    "print(count_unique_species(ecosystem_data2))\n",
    "print(count_unique_species(ecosystem_data3))"
   ]
  },
  {
   "cell_type": "code",
   "execution_count": null,
   "metadata": {},
   "outputs": [],
   "source": [
    "def num_equiv_species_pairs(species_pairs):\n",
    "  pass\n",
    "\n",
    "species_pairs1 = [[1,2],[2,1],[3,4],[5,6]]\n",
    "species_pairs2 = [[1,2],[1,2],[1,1],[1,2],[2,2]]\n",
    "\n",
    "print(num_equiv_species_pairs(species_pairs1))\n",
    "print(num_equiv_species_pairs(species_pairs2))"
   ]
  },
  {
   "cell_type": "code",
   "execution_count": null,
   "metadata": {},
   "outputs": [],
   "source": []
  }
 ],
 "metadata": {
  "kernelspec": {
   "display_name": "Python 3",
   "language": "python",
   "name": "python3"
  },
  "language_info": {
   "codemirror_mode": {
    "name": "ipython",
    "version": 3
   },
   "file_extension": ".py",
   "mimetype": "text/x-python",
   "name": "python",
   "nbconvert_exporter": "python",
   "pygments_lexer": "ipython3",
   "version": "3.12.4"
  }
 },
 "nbformat": 4,
 "nbformat_minor": 2
}
